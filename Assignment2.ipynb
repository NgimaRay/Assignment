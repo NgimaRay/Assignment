{
 "cells": [
  {
   "cell_type": "code",
   "execution_count": 8,
   "id": "c0fd0e4c-b45c-4815-b337-abee93c7b46a",
   "metadata": {},
   "outputs": [],
   "source": [
    "group_members = {\"names\": [\"Rahab\", \"Sieley\", \"Faith\", \"Jane\", \"Purity\"], \"age\" : [18,20,22,24,16]}\n"
   ]
  },
  {
   "cell_type": "code",
   "execution_count": 10,
   "id": "22bcdf9d-04d2-4bef-8277-363f25e18626",
   "metadata": {},
   "outputs": [],
   "source": [
    " # updating with gender\n",
    "group_members[\"sex\"] = [\"F\", \"F\",\"F\", \"F\",\"F\"]"
   ]
  },
  {
   "cell_type": "code",
   "execution_count": 6,
   "id": "1c9aa965-1f84-4dfb-8949-22565c4cac53",
   "metadata": {},
   "outputs": [
    {
     "name": "stdout",
     "output_type": "stream",
     "text": [
      "{'names': ['Rahab', 'Sieley', 'Faith', 'Jane', 'Purity'], 'age': [18, 20.22, 24, 16], 'sex': ['F', 'F', 'F', 'F', 'F']}\n"
     ]
    }
   ],
   "source": [
    "print (group_members)"
   ]
  },
  {
   "cell_type": "code",
   "execution_count": 11,
   "id": "9d1b9b65-8803-481b-a282-21cbed946f6d",
   "metadata": {},
   "outputs": [
    {
     "data": {
      "text/html": [
       "<div>\n",
       "<style scoped>\n",
       "    .dataframe tbody tr th:only-of-type {\n",
       "        vertical-align: middle;\n",
       "    }\n",
       "\n",
       "    .dataframe tbody tr th {\n",
       "        vertical-align: top;\n",
       "    }\n",
       "\n",
       "    .dataframe thead th {\n",
       "        text-align: right;\n",
       "    }\n",
       "</style>\n",
       "<table border=\"1\" class=\"dataframe\">\n",
       "  <thead>\n",
       "    <tr style=\"text-align: right;\">\n",
       "      <th></th>\n",
       "      <th>names</th>\n",
       "      <th>age</th>\n",
       "      <th>sex</th>\n",
       "    </tr>\n",
       "  </thead>\n",
       "  <tbody>\n",
       "    <tr>\n",
       "      <th>0</th>\n",
       "      <td>Rahab</td>\n",
       "      <td>18</td>\n",
       "      <td>F</td>\n",
       "    </tr>\n",
       "    <tr>\n",
       "      <th>1</th>\n",
       "      <td>Sieley</td>\n",
       "      <td>20</td>\n",
       "      <td>F</td>\n",
       "    </tr>\n",
       "    <tr>\n",
       "      <th>2</th>\n",
       "      <td>Faith</td>\n",
       "      <td>22</td>\n",
       "      <td>F</td>\n",
       "    </tr>\n",
       "    <tr>\n",
       "      <th>3</th>\n",
       "      <td>Jane</td>\n",
       "      <td>24</td>\n",
       "      <td>F</td>\n",
       "    </tr>\n",
       "    <tr>\n",
       "      <th>4</th>\n",
       "      <td>Purity</td>\n",
       "      <td>16</td>\n",
       "      <td>F</td>\n",
       "    </tr>\n",
       "  </tbody>\n",
       "</table>\n",
       "</div>"
      ],
      "text/plain": [
       "    names  age sex\n",
       "0   Rahab   18   F\n",
       "1  Sieley   20   F\n",
       "2   Faith   22   F\n",
       "3    Jane   24   F\n",
       "4  Purity   16   F"
      ]
     },
     "execution_count": 11,
     "metadata": {},
     "output_type": "execute_result"
    }
   ],
   "source": [
    "import pandas as pd\n",
    "pd.DataFrame(group_members)"
   ]
  },
  {
   "cell_type": "code",
   "execution_count": null,
   "id": "b800351f-b320-401e-80ba-8596b0b25317",
   "metadata": {},
   "outputs": [],
   "source": []
  }
 ],
 "metadata": {
  "kernelspec": {
   "display_name": "Python 3 (ipykernel)",
   "language": "python",
   "name": "python3"
  },
  "language_info": {
   "codemirror_mode": {
    "name": "ipython",
    "version": 3
   },
   "file_extension": ".py",
   "mimetype": "text/x-python",
   "name": "python",
   "nbconvert_exporter": "python",
   "pygments_lexer": "ipython3",
   "version": "3.13.2"
  }
 },
 "nbformat": 4,
 "nbformat_minor": 5
}
